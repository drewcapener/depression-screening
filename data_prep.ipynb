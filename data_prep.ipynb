{
 "cells": [
  {
   "cell_type": "markdown",
   "metadata": {},
   "source": [
    "## Data Preparation Notebook"
   ]
  },
  {
   "cell_type": "code",
   "execution_count": 1,
   "metadata": {},
   "outputs": [],
   "source": [
    "import pandas as pd\n",
    "import numpy as np"
   ]
  },
  {
   "cell_type": "code",
   "execution_count": 2,
   "metadata": {},
   "outputs": [],
   "source": [
    "raw_data = pd.read_csv('./data/matthew_new_data.csv')\n",
    "raw_targets = pd.read_csv('./data/progress_targets.csv')"
   ]
  },
  {
   "cell_type": "markdown",
   "metadata": {},
   "source": [
    "Dropping Unnecessary Columns from the Extracts"
   ]
  },
  {
   "cell_type": "code",
   "execution_count": 3,
   "metadata": {},
   "outputs": [],
   "source": [
    "raw_data = raw_data.drop(columns=['SERIAL', 'PERNUM', 'PID', 'DUID', 'PANEL',\n",
    "                       'PSUANN', 'STRATANN', 'PSUPLD', 'STRATAPLD', 'PANELYR', 'PERWEIGHT', 'SAQWEIGHT', \n",
    "                             'DIABWEIGHT'])"
   ]
  },
  {
   "cell_type": "code",
   "execution_count": 4,
   "metadata": {},
   "outputs": [],
   "source": [
    "raw_targets = raw_targets.drop(columns=['SERIAL', 'PERNUM', 'PID', 'DUID', 'PANEL',\n",
    "                       'PSUANN', 'STRATANN', 'PSUPLD', 'STRATAPLD', 'PANELYR', 'PERWEIGHT', 'SAQWEIGHT', \n",
    "                             'DIABWEIGHT', 'YEAR', 'RELYR'])"
   ]
  },
  {
   "cell_type": "markdown",
   "metadata": {},
   "source": [
    "Saving targets and adding them to the main data"
   ]
  },
  {
   "cell_type": "code",
   "execution_count": 5,
   "metadata": {},
   "outputs": [],
   "source": [
    "PHQ2 = np.array(raw_targets['PHQ2'])"
   ]
  },
  {
   "cell_type": "code",
   "execution_count": 6,
   "metadata": {},
   "outputs": [],
   "source": [
    "raw_data['PHQ2'] = PHQ2"
   ]
  },
  {
   "cell_type": "markdown",
   "metadata": {},
   "source": [
    "Dropping rows where the target is unknown"
   ]
  },
  {
   "cell_type": "code",
   "execution_count": 7,
   "metadata": {},
   "outputs": [],
   "source": [
    "drop_indices = raw_data[ raw_data['PHQ2'] == 96].index.append(raw_data[ raw_data['PHQ2'] == 98].index)\n",
    "raw_data = raw_data.drop(drop_indices)"
   ]
  },
  {
   "cell_type": "markdown",
   "metadata": {},
   "source": [
    "Dropping feature that doesn't have values for all the years"
   ]
  },
  {
   "cell_type": "code",
   "execution_count": 9,
   "metadata": {},
   "outputs": [],
   "source": [
    "#raw_data = raw_data.drop(columns=['ADNDCR'])"
   ]
  },
  {
   "cell_type": "markdown",
   "metadata": {},
   "source": [
    "Saving first year data separately from second year data\n",
    "<br>Saving sex feature to be restored after subtraction"
   ]
  },
  {
   "cell_type": "code",
   "execution_count": 10,
   "metadata": {},
   "outputs": [],
   "source": [
    "year_one_data = raw_data[raw_data['RELYR'] == 1].set_index('MEPSID')\n",
    "year_two_data = raw_data[raw_data['RELYR'] == 2].set_index('MEPSID')\n",
    "sex = year_one_data['SEX']\n",
    "age = year_two_data['AGE']\n"
   ]
  },
  {
   "cell_type": "markdown",
   "metadata": {},
   "source": [
    "Performing subtraction to obtain final data\n",
    "<br>Restoring sex column\n",
    "<br>Dropping columns that are no longer necessary"
   ]
  },
  {
   "cell_type": "code",
   "execution_count": 11,
   "metadata": {},
   "outputs": [],
   "source": [
    "delta = year_two_data.subtract(year_one_data)\n",
    "delta['SEX'] = sex\n",
    "delta['AGE'] = age\n",
    "delta = delta.drop(columns=['YEAR', 'RELYR'])\n",
    "delta.to_csv('matthew_delta.csv', index=True)"
   ]
  },
  {
   "cell_type": "code",
   "execution_count": null,
   "metadata": {},
   "outputs": [],
   "source": []
  }
 ],
 "metadata": {
  "kernelspec": {
   "display_name": "Python 3",
   "language": "python",
   "name": "python3"
  },
  "language_info": {
   "codemirror_mode": {
    "name": "ipython",
    "version": 3
   },
   "file_extension": ".py",
   "mimetype": "text/x-python",
   "name": "python",
   "nbconvert_exporter": "python",
   "pygments_lexer": "ipython3",
   "version": "3.7.3"
  }
 },
 "nbformat": 4,
 "nbformat_minor": 2
}
